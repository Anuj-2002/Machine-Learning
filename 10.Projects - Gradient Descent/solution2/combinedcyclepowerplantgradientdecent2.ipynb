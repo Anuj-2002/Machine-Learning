{
 "cells": [
  {
   "cell_type": "code",
   "execution_count": 1,
   "metadata": {},
   "outputs": [
    {
     "data": {
      "text/plain": [
       "array([[-1.47827466e+00, -1.24764165e+00,  1.30221067e+00,\n",
       "         7.58624590e-01,  1.62423942e+00],\n",
       "       [ 2.89012041e-01,  3.06797549e-01,  6.61749044e-01,\n",
       "        -4.46921842e-01, -4.37233891e-01],\n",
       "       [-3.99975582e-01, -4.21012529e-01, -2.87207194e-01,\n",
       "         3.75010552e-01, -1.09219167e-01],\n",
       "       ...,\n",
       "       [ 1.36062192e+00,  1.18048335e+00, -6.54382840e-01,\n",
       "        -5.83682640e-01, -9.79450400e-01],\n",
       "       [-4.36097263e-01,  9.29089763e-04,  7.84140927e-01,\n",
       "        -6.59584883e-01,  3.23269996e-01],\n",
       "       [ 1.40209496e+00,  6.07960340e-01, -4.31394890e-01,\n",
       "        -1.73110573e+00, -5.84315226e-01]])"
      ]
     },
     "execution_count": 1,
     "metadata": {},
     "output_type": "execute_result"
    }
   ],
   "source": [
    "import numpy as np\n",
    "import pandas as pd\n",
    "from sklearn import preprocessing\n",
    "tr_df =  np.loadtxt(\"0000000000002419_training_ccpp_x_y_train.csv\",delimiter=\",\")\n",
    "#tr_df.shape[1]\n",
    "scaler = preprocessing.StandardScaler()\n",
    "scaler.fit(tr_df)\n",
    "\n",
    "scaler.transform(tr_df)"
   ]
  },
  {
   "cell_type": "code",
   "execution_count": 2,
   "metadata": {},
   "outputs": [],
   "source": [
    "def step_grad(points, learn_rate, M):\n",
    "    N = points.shape[0]\n",
    "    num_col = points.shape[1]\n",
    "    \n",
    "    new_M = np.zeros(num_col)\n",
    "    \n",
    "    for i in range(N):\n",
    "        x = points[i, 0:num_col-1]\n",
    "        x = np.append(x, 1)\n",
    "        y = points[i, num_col-1]\n",
    "        for j in range(num_col):\n",
    "            new_M[j] += (-2/N) * (y - (M * x).sum()) * x[j]\n",
    "        M = M - (learn_rate * new_M)\n",
    "        \n",
    "    #print (M.shape)\n",
    "    return M"
   ]
  },
  {
   "cell_type": "code",
   "execution_count": 3,
   "metadata": {},
   "outputs": [],
   "source": [
    "def gd(points, learn_rate, num_iter):\n",
    "    num_col = points.shape[1]\n",
    "    M = np.zeros(num_col)\n",
    "    \n",
    "    for i in range(num_iter):\n",
    "        M = step_grad(points, learn_rate, M)\n",
    "#         if i % 100== 0:\n",
    "#             print(i, \"Cost= \", cost(points, M))\n",
    "    #print(i, \"Cost= \", cost(points, M))\n",
    "    return M"
   ]
  },
  {
   "cell_type": "code",
   "execution_count": 4,
   "metadata": {},
   "outputs": [],
   "source": [
    "def cost(points, M):\n",
    "    total_cost = 0\n",
    "    \n",
    "    N = points.shape[0]\n",
    "    num_col = points.shape[1]\n",
    "    \n",
    "    for i in range(N):\n",
    "        x = points[i,0:num_col-1]\n",
    "        x = np.append(x, 1)\n",
    "        y = points[i,num_col-1]\n",
    "        total_cost += (y - (M * x).sum()) ** 2\n",
    "        \n",
    "    total_cost = (1/N) * total_cost\n",
    "    return total_cost"
   ]
  },
  {
   "cell_type": "code",
   "execution_count": 5,
   "metadata": {},
   "outputs": [],
   "source": [
    "def run():\n",
    "    #= pd.read_csv(\"/Users/shagunsaboo/Downloads/trainb.csv\")\n",
    "    learning_rate = 0.00001\n",
    "    num_iterations = 1000\n",
    "    m = gd(tr_df, learning_rate, num_iterations)\n",
    "    print (m.size)\n",
    "    return m[0:4], m[4]"
   ]
  },
  {
   "cell_type": "code",
   "execution_count": 6,
   "metadata": {},
   "outputs": [
    {
     "name": "stdout",
     "output_type": "stream",
     "text": [
      "5\n",
      "[-3.45628359 -3.89917151  0.42066753  4.07245427] 1.3627221431676957\n"
     ]
    }
   ],
   "source": [
    "m,c=run()\n",
    "print(m,c)"
   ]
  },
  {
   "cell_type": "code",
   "execution_count": 7,
   "metadata": {},
   "outputs": [
    {
     "data": {
      "text/plain": [
       "array([[-1.05179958, -0.9803295 ,  0.73940279,  1.20354042],\n",
       "       [-1.03554677, -1.28089884, -0.09850361,  0.5680886 ],\n",
       "       [ 0.97438468,  1.64050792, -1.29819445,  0.38358038],\n",
       "       ...,\n",
       "       [ 0.62359476,  0.94554072, -0.70944148,  1.27238677],\n",
       "       [ 0.51117945, -0.91910241,  0.1216388 , -0.55754924],\n",
       "       [ 0.27686804,  0.47003684,  0.97490397,  0.80216619]])"
      ]
     },
     "execution_count": 7,
     "metadata": {},
     "output_type": "execute_result"
    }
   ],
   "source": [
    "test_data =np.loadtxt(\"0000000000002419_test_ccpp_x_test.csv\", delimiter=\",\")\n",
    "\n",
    "scaler.fit(test_data)\n",
    "\n",
    "scaler.transform(test_data)"
   ]
  },
  {
   "cell_type": "code",
   "execution_count": 8,
   "metadata": {},
   "outputs": [],
   "source": [
    "from sklearn.ensemble import GradientBoostingRegressor"
   ]
  },
  {
   "cell_type": "raw",
   "metadata": {},
   "source": []
  },
  {
   "cell_type": "code",
   "execution_count": 9,
   "metadata": {},
   "outputs": [],
   "source": [
    "x = tr_df[:, :-1]\n",
    "y = tr_df[:, -1]"
   ]
  },
  {
   "cell_type": "code",
   "execution_count": 10,
   "metadata": {},
   "outputs": [
    {
     "data": {
      "text/html": [
       "<style>#sk-container-id-1 {color: black;}#sk-container-id-1 pre{padding: 0;}#sk-container-id-1 div.sk-toggleable {background-color: white;}#sk-container-id-1 label.sk-toggleable__label {cursor: pointer;display: block;width: 100%;margin-bottom: 0;padding: 0.3em;box-sizing: border-box;text-align: center;}#sk-container-id-1 label.sk-toggleable__label-arrow:before {content: \"▸\";float: left;margin-right: 0.25em;color: #696969;}#sk-container-id-1 label.sk-toggleable__label-arrow:hover:before {color: black;}#sk-container-id-1 div.sk-estimator:hover label.sk-toggleable__label-arrow:before {color: black;}#sk-container-id-1 div.sk-toggleable__content {max-height: 0;max-width: 0;overflow: hidden;text-align: left;background-color: #f0f8ff;}#sk-container-id-1 div.sk-toggleable__content pre {margin: 0.2em;color: black;border-radius: 0.25em;background-color: #f0f8ff;}#sk-container-id-1 input.sk-toggleable__control:checked~div.sk-toggleable__content {max-height: 200px;max-width: 100%;overflow: auto;}#sk-container-id-1 input.sk-toggleable__control:checked~label.sk-toggleable__label-arrow:before {content: \"▾\";}#sk-container-id-1 div.sk-estimator input.sk-toggleable__control:checked~label.sk-toggleable__label {background-color: #d4ebff;}#sk-container-id-1 div.sk-label input.sk-toggleable__control:checked~label.sk-toggleable__label {background-color: #d4ebff;}#sk-container-id-1 input.sk-hidden--visually {border: 0;clip: rect(1px 1px 1px 1px);clip: rect(1px, 1px, 1px, 1px);height: 1px;margin: -1px;overflow: hidden;padding: 0;position: absolute;width: 1px;}#sk-container-id-1 div.sk-estimator {font-family: monospace;background-color: #f0f8ff;border: 1px dotted black;border-radius: 0.25em;box-sizing: border-box;margin-bottom: 0.5em;}#sk-container-id-1 div.sk-estimator:hover {background-color: #d4ebff;}#sk-container-id-1 div.sk-parallel-item::after {content: \"\";width: 100%;border-bottom: 1px solid gray;flex-grow: 1;}#sk-container-id-1 div.sk-label:hover label.sk-toggleable__label {background-color: #d4ebff;}#sk-container-id-1 div.sk-serial::before {content: \"\";position: absolute;border-left: 1px solid gray;box-sizing: border-box;top: 0;bottom: 0;left: 50%;z-index: 0;}#sk-container-id-1 div.sk-serial {display: flex;flex-direction: column;align-items: center;background-color: white;padding-right: 0.2em;padding-left: 0.2em;position: relative;}#sk-container-id-1 div.sk-item {position: relative;z-index: 1;}#sk-container-id-1 div.sk-parallel {display: flex;align-items: stretch;justify-content: center;background-color: white;position: relative;}#sk-container-id-1 div.sk-item::before, #sk-container-id-1 div.sk-parallel-item::before {content: \"\";position: absolute;border-left: 1px solid gray;box-sizing: border-box;top: 0;bottom: 0;left: 50%;z-index: -1;}#sk-container-id-1 div.sk-parallel-item {display: flex;flex-direction: column;z-index: 1;position: relative;background-color: white;}#sk-container-id-1 div.sk-parallel-item:first-child::after {align-self: flex-end;width: 50%;}#sk-container-id-1 div.sk-parallel-item:last-child::after {align-self: flex-start;width: 50%;}#sk-container-id-1 div.sk-parallel-item:only-child::after {width: 0;}#sk-container-id-1 div.sk-dashed-wrapped {border: 1px dashed gray;margin: 0 0.4em 0.5em 0.4em;box-sizing: border-box;padding-bottom: 0.4em;background-color: white;}#sk-container-id-1 div.sk-label label {font-family: monospace;font-weight: bold;display: inline-block;line-height: 1.2em;}#sk-container-id-1 div.sk-label-container {text-align: center;}#sk-container-id-1 div.sk-container {/* jupyter's `normalize.less` sets `[hidden] { display: none; }` but bootstrap.min.css set `[hidden] { display: none !important; }` so we also need the `!important` here to be able to override the default hidden behavior on the sphinx rendered scikit-learn.org. See: https://github.com/scikit-learn/scikit-learn/issues/21755 */display: inline-block !important;position: relative;}#sk-container-id-1 div.sk-text-repr-fallback {display: none;}</style><div id=\"sk-container-id-1\" class=\"sk-top-container\"><div class=\"sk-text-repr-fallback\"><pre>GradientBoostingRegressor()</pre><b>In a Jupyter environment, please rerun this cell to show the HTML representation or trust the notebook. <br />On GitHub, the HTML representation is unable to render, please try loading this page with nbviewer.org.</b></div><div class=\"sk-container\" hidden><div class=\"sk-item\"><div class=\"sk-estimator sk-toggleable\"><input class=\"sk-toggleable__control sk-hidden--visually\" id=\"sk-estimator-id-1\" type=\"checkbox\" checked><label for=\"sk-estimator-id-1\" class=\"sk-toggleable__label sk-toggleable__label-arrow\">GradientBoostingRegressor</label><div class=\"sk-toggleable__content\"><pre>GradientBoostingRegressor()</pre></div></div></div></div></div>"
      ],
      "text/plain": [
       "GradientBoostingRegressor()"
      ]
     },
     "execution_count": 10,
     "metadata": {},
     "output_type": "execute_result"
    }
   ],
   "source": [
    "reg=GradientBoostingRegressor()\n",
    "reg.fit(x,y)"
   ]
  },
  {
   "cell_type": "code",
   "execution_count": 11,
   "metadata": {},
   "outputs": [],
   "source": [
    "y_predict=reg.predict(test_data)"
   ]
  },
  {
   "cell_type": "code",
   "execution_count": 12,
   "metadata": {},
   "outputs": [
    {
     "data": {
      "text/plain": [
       "array([470.56174391, 472.66297342, 435.27765416, ..., 438.71921598,\n",
       "       452.8264231 , 445.09956345])"
      ]
     },
     "execution_count": 12,
     "metadata": {},
     "output_type": "execute_result"
    }
   ],
   "source": [
    "y_predict"
   ]
  },
  {
   "cell_type": "code",
   "execution_count": null,
   "metadata": {},
   "outputs": [],
   "source": []
  },
  {
   "cell_type": "code",
   "execution_count": 13,
   "metadata": {},
   "outputs": [],
   "source": [
    "def predict(x, m, c):\n",
    "    N = x.shape[0]\n",
    "    y = np.zeros(N)\n",
    "    \n",
    "    for i in range(N):\n",
    "        X = x[i,:]\n",
    "        y[i] = (m * X).sum() + c\n",
    "        \n",
    "    return y"
   ]
  },
  {
   "cell_type": "code",
   "execution_count": 14,
   "metadata": {},
   "outputs": [],
   "source": [
    "x_test = test_data"
   ]
  },
  {
   "cell_type": "code",
   "execution_count": 15,
   "metadata": {},
   "outputs": [],
   "source": [
    "y_pred = predict(x_test, m, c)"
   ]
  },
  {
   "cell_type": "code",
   "execution_count": 16,
   "metadata": {},
   "outputs": [
    {
     "data": {
      "text/plain": [
       "array([594.38619238, 569.0560762 , 360.63779622, ..., 457.69501728,\n",
       "       445.80212114, 466.19727484])"
      ]
     },
     "execution_count": 16,
     "metadata": {},
     "output_type": "execute_result"
    }
   ],
   "source": [
    "y_pred"
   ]
  },
  {
   "cell_type": "code",
   "execution_count": 17,
   "metadata": {},
   "outputs": [
    {
     "data": {
      "text/plain": [
       "454.21968098846713"
      ]
     },
     "execution_count": 17,
     "metadata": {},
     "output_type": "execute_result"
    }
   ],
   "source": [
    "y_predict.mean()"
   ]
  },
  {
   "cell_type": "code",
   "execution_count": 18,
   "metadata": {},
   "outputs": [],
   "source": [
    "np.savetxt(\"predictedboston3.csv\", y_predict, delimiter=',')"
   ]
  },
  {
   "cell_type": "code",
   "execution_count": null,
   "metadata": {},
   "outputs": [],
   "source": []
  }
 ],
 "metadata": {
  "kernelspec": {
   "display_name": "Python 3 (ipykernel)",
   "language": "python",
   "name": "python3"
  },
  "language_info": {
   "codemirror_mode": {
    "name": "ipython",
    "version": 3
   },
   "file_extension": ".py",
   "mimetype": "text/x-python",
   "name": "python",
   "nbconvert_exporter": "python",
   "pygments_lexer": "ipython3",
   "version": "3.10.3"
  }
 },
 "nbformat": 4,
 "nbformat_minor": 2
}
