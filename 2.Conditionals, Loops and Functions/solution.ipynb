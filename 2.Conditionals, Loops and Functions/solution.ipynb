{
 "cells": [
  {
   "cell_type": "code",
   "execution_count": 1,
   "metadata": {},
   "outputs": [
    {
     "name": "stdout",
     "output_type": "stream",
     "text": [
      "1      1\n",
      "12    21\n",
      "123  321\n",
      "12344321\n"
     ]
    }
   ],
   "source": [
    "a=int(input())\n",
    "for k in range(1,a+1):\n",
    "    b='1'\n",
    "    for i in range(2,a+1):\n",
    "        c=str(i)\n",
    "        if k >= i:\n",
    "            b=b+c\n",
    "        else:\n",
    "            b=b+' '\n",
    "    for j in range(a,0,-1):\n",
    "        d=str(j)\n",
    "        if k >= j:\n",
    "            b=b+d\n",
    "        else:\n",
    "            b=b+' '\n",
    "    print(b)"
   ]
  },
  {
   "cell_type": "code",
   "execution_count": 2,
   "metadata": {},
   "outputs": [],
   "source": [
    "from sys import stdin\n",
    "\n",
    "\n",
    "def reverseEachWord(s):\n",
    "\t# w = s.split(\" \")        \n",
    "    nw=[i[::-1] for i in s.split(\" \")]\n",
    "    ns = \" \".join(nw)\n",
    "    return ns\n",
    "\n",
    "\n",
    "string = stdin.readline().strip()\n",
    "\n",
    "print(reverseEachWord(string))"
   ]
  },
  {
   "cell_type": "markdown",
   "metadata": {},
   "source": [
    "Given a number N find the sum of all the even valued terms in the fibonacci sequence less than or equal to N. Try generating only even fibonacci numbers instead of iterating over all Fibonacci numbers."
   ]
  },
  {
   "cell_type": "code",
   "execution_count": 3,
   "metadata": {},
   "outputs": [
    {
     "name": "stdout",
     "output_type": "stream",
     "text": [
      "188\n"
     ]
    }
   ],
   "source": [
    "n = int(input())\n",
    "a, b = 1, 1\n",
    "total = 0\n",
    "while a <= n:\n",
    "    if a % 2 == 0:\n",
    "        total += a\n",
    "    a, b = b, a+b\n",
    "print (total)"
   ]
  },
  {
   "cell_type": "markdown",
   "metadata": {},
   "source": [
    "Problem statement\n",
    "Print the following pattern for the given number of rows.\n",
    "\n",
    "Pattern for N = 5\n",
    "1 \n",
    "3 2 \n",
    "4 5 6 \n",
    "10 9 8 7 \n",
    "11 12 13 14 15\n",
    "Input format : N (Total no. of rows)\n",
    "\n",
    "Output format : Pattern in N lines"
   ]
  },
  {
   "cell_type": "code",
   "execution_count": 4,
   "metadata": {},
   "outputs": [
    {
     "name": "stdout",
     "output_type": "stream",
     "text": [
      "1 \n",
      "3 2 \n",
      "4 5 6 \n",
      "10 9 8 7 \n",
      "11 12 13 14 15 \n",
      "21 20 19 18 17 16 \n",
      "22 23 24 25 26 27 28 \n"
     ]
    }
   ],
   "source": [
    "n = int(input())\n",
    "i = 1\n",
    "p = 1\n",
    "while i<=n:\n",
    "    if i%2==0:\n",
    "        t=p+i-1\n",
    "        p=t\n",
    "        k=i\n",
    "        while k>0 :\n",
    "            print(t,end=' ')\n",
    "            t=t-1\n",
    "            k=k-1\n",
    "        p=p+1\n",
    "    else: \n",
    "        j = 1\n",
    "        while j<=i:\n",
    "            print(p,end=' ')\n",
    "            p = p + 1\n",
    "            j = j + 1\n",
    "    print()\n",
    "    i = i + 1 "
   ]
  },
  {
   "cell_type": "markdown",
   "metadata": {},
   "source": [
    "Given a decimal number (integer N), convert it into binary and print.\n",
    "Constraints :\n",
    "0 <= N <= 10^5\n",
    "Sample Input 1 :\n",
    "12\n",
    "Sample Output 1 :\n",
    "1100\n",
    "Sample Input 2 :\n",
    "7\n",
    "Sample Output 2 :\n",
    "111\n",
    "Sample Input 2 :\n",
    "0\n",
    "Sample Output 2 :\n",
    "0"
   ]
  },
  {
   "cell_type": "code",
   "execution_count": 5,
   "metadata": {},
   "outputs": [
    {
     "name": "stdout",
     "output_type": "stream",
     "text": [
      "1100"
     ]
    }
   ],
   "source": [
    "def DecimalToBinary(num):\n",
    "    if num > 1:\n",
    "        DecimalToBinary(num // 2)\n",
    "    print(num % 2, end='')\n",
    "\n",
    "number = int(input())\n",
    "\n",
    "DecimalToBinary(number)"
   ]
  },
  {
   "cell_type": "markdown",
   "metadata": {},
   "source": [
    "Problem statement\n",
    "Given an integer N, print all the prime numbers that lie in the range 2 to N (both inclusive).\n",
    "\n",
    "Print the prime numbers in different lines.\n",
    "\n",
    "Detailed explanation ( Input/output format, Notes, Images )\n",
    "Constraints :\n",
    "1 <= N <= 100\n",
    "Sample Input 1:\n",
    "9\n",
    "Sample Output 1:\n",
    "2\n",
    "3\n",
    "5\n",
    "7\n",
    "Sample Input 2:\n",
    "20\n",
    "Sample Output 2:\n",
    "2\n",
    "3\n",
    "5\n",
    "7\n",
    "11\n",
    "13\n",
    "17\n",
    "19"
   ]
  },
  {
   "cell_type": "code",
   "execution_count": 6,
   "metadata": {},
   "outputs": [
    {
     "name": "stdout",
     "output_type": "stream",
     "text": [
      "2\n",
      "3\n",
      "5\n",
      "7\n",
      "11\n",
      "13\n",
      "17\n",
      "19\n",
      "23\n",
      "29\n",
      "31\n",
      "37\n",
      "41\n",
      "43\n",
      "47\n",
      "53\n",
      "59\n",
      "61\n",
      "67\n",
      "71\n",
      "73\n",
      "79\n",
      "83\n",
      "89\n",
      "97\n"
     ]
    }
   ],
   "source": [
    "n = int(input())\n",
    "k =2\n",
    "while k <= n:\n",
    "    d = 2\n",
    "    flag= False\n",
    "    while d<k:\n",
    "        if (k % d == 0):\n",
    "            flag = True\n",
    "        d = d + 1\n",
    "    if not flag:\n",
    "        print(k)\n",
    "    k =k+1      "
   ]
  },
  {
   "cell_type": "markdown",
   "metadata": {},
   "source": [
    "Problem statement\n",
    "Find and return number of trailing 0s in n factorial without calculating n factorial.\n",
    "\n",
    "Sample Input\n",
    "50\n",
    "Sample Output\n",
    "12\n",
    "Input Size Limit\n",
    "n < 10^11"
   ]
  },
  {
   "cell_type": "code",
   "execution_count": 8,
   "metadata": {},
   "outputs": [
    {
     "name": "stdout",
     "output_type": "stream",
     "text": [
      "12\n"
     ]
    }
   ],
   "source": [
    "n = int(input())\n",
    "i = 5\n",
    "z = 0\n",
    "while n>=i:\n",
    "    z = n//i+z\n",
    "    i = i*5\n",
    "print(z)"
   ]
  },
  {
   "cell_type": "code",
   "execution_count": null,
   "metadata": {},
   "outputs": [],
   "source": []
  }
 ],
 "metadata": {
  "kernelspec": {
   "display_name": "Python 3",
   "language": "python",
   "name": "python3"
  },
  "language_info": {
   "codemirror_mode": {
    "name": "ipython",
    "version": 3
   },
   "file_extension": ".py",
   "mimetype": "text/x-python",
   "name": "python",
   "nbconvert_exporter": "python",
   "pygments_lexer": "ipython3",
   "version": "3.10.3"
  }
 },
 "nbformat": 4,
 "nbformat_minor": 2
}
