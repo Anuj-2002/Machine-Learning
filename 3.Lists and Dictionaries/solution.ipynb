{
 "cells": [
  {
   "cell_type": "markdown",
   "metadata": {},
   "source": [
    "LEADERS IN ARRAY"
   ]
  },
  {
   "cell_type": "markdown",
   "metadata": {},
   "source": [
    "Problem statement\n",
    "Given an integer array A of size n. Find and print all the leaders present in the input array. An array element A[i] is called Leader, if all the elements following it (i.e. present at its right) are less than or equal to A[i].\n",
    "\n",
    "Print all the leader elements separated by space and in the same order they are present in the input array."
   ]
  },
  {
   "cell_type": "code",
   "execution_count": null,
   "metadata": {
    "vscode": {
     "languageId": "plaintext"
    }
   },
   "outputs": [],
   "source": [
    "def leaderprint(arr, n):\n",
    " \n",
    "    for i in range(0, n):\n",
    "        for j in range(i, n):\n",
    "            if (arr[i] < arr[j]):\n",
    "                break\n",
    "            if (j == n - 1):\n",
    "                print(arr[i],end=' ')\n",
    "\n",
    "num = int(input())\n",
    "arr = [int(x) for x in input().split()]\n",
    "n = len(arr)\n",
    "leaderprint(arr, n)"
   ]
  },
  {
   "cell_type": "markdown",
   "metadata": {
    "vscode": {
     "languageId": "plaintext"
    }
   },
   "source": [
    "Reverse string word wise"
   ]
  },
  {
   "cell_type": "markdown",
   "metadata": {
    "vscode": {
     "languageId": "plaintext"
    }
   },
   "source": [
    "Reverse the given string word wise. That is, the last word in given string should come at 1st place, last second word at 2nd place and so on. Individual words should remain as it is."
   ]
  },
  {
   "cell_type": "code",
   "execution_count": null,
   "metadata": {
    "vscode": {
     "languageId": "plaintext"
    }
   },
   "outputs": [],
   "source": [
    "s=input()\n",
    "new=s.split()\n",
    "for i in range(len(new)):\n",
    "    sad=new[::-1][i]\n",
    "    print(sad,end=\" \")"
   ]
  },
  {
   "cell_type": "markdown",
   "metadata": {
    "vscode": {
     "languageId": "plaintext"
    }
   },
   "source": [
    "Problem statement\n",
    "Given 2 sorted arrays (in increasing order), find a path through the intersections that produces maximum sum and return the maximum sum.\n",
    "\n",
    "That is, we can switch from one array to another array only at common elements.\n",
    "\n",
    "If no intersection element is present, we need to take sum of all elements from the array with greater sum"
   ]
  },
  {
   "cell_type": "code",
   "execution_count": null,
   "metadata": {
    "vscode": {
     "languageId": "plaintext"
    }
   },
   "outputs": [],
   "source": [
    "def maxSum(ar1, ar2, m, n):\n",
    "    i, j = 0, 0\n",
    "    result, sum1, sum2= 0, 0, 0\n",
    "    while (i < m and j < n): \n",
    "        if ar1[i] < ar2[j]: \n",
    "            sum1 += ar1[i] \n",
    "            i+=1 \n",
    "        elif ar1[i] > ar2[j]: \n",
    "            sum2 += ar2[j] \n",
    "            j+=1  \n",
    "        #intersection point\n",
    "        else:\n",
    "            result+= max(sum1,sum2) \n",
    "            sum1, sum2 = 0, 0\n",
    "            while (i < m and j < n and ar1[i]==ar2[j]): \n",
    "                result += ar1[i] \n",
    "                i+=1\n",
    "                j+=1\n",
    "    #no more intersection points\n",
    "    #rest numbers in subsequent array\n",
    "    while i < m: \n",
    "        sum1 += ar1[i] \n",
    "        i+=1\n",
    "    while j < n: \n",
    "        sum2 += ar2[j] \n",
    "        j+=1\n",
    "    result += max(sum1,sum2) \n",
    "    return result\n",
    "\n",
    "m = int(input())\n",
    "a1 = [int(i) for i in input().split()]\n",
    "n = int(input())\n",
    "a2 = [int(j) for j in input().split()]\n",
    "print(maxSum(a1,a2,m,n))"
   ]
  },
  {
   "cell_type": "markdown",
   "metadata": {
    "vscode": {
     "languageId": "plaintext"
    }
   },
   "source": [
    "Problem statement\n",
    "\n",
    "Given a string S, find the largest substring with no repetition i.e. largest substring which contain all unique characters."
   ]
  },
  {
   "cell_type": "code",
   "execution_count": null,
   "metadata": {
    "vscode": {
     "languageId": "plaintext"
    }
   },
   "outputs": [],
   "source": [
    "def uniqueSubstring(string):\n",
    "    startL = 0 \n",
    "    endL = 0 \n",
    "    start = 0 \n",
    "    l = len(string) \n",
    "    while start<l: \n",
    "        d = {string[start]:start} \n",
    "        end = start+1 \n",
    "        while end<l and string[end] not in d: \n",
    "            d[string[end]] = end \n",
    "            end += 1 \n",
    "        if end-start > endL-startL: \n",
    "            startL = start \n",
    "            endL = end \n",
    "        if end == l: \n",
    "            start = l \n",
    "        else: \n",
    "            start = d[string[end]] + 1 \n",
    "    return string[startL:endL] \n",
    "    # Main \n",
    "s = input() \n",
    "print(uniqueSubstring(s))"
   ]
  }
 ],
 "metadata": {
  "language_info": {
   "name": "python"
  }
 },
 "nbformat": 4,
 "nbformat_minor": 2
}
