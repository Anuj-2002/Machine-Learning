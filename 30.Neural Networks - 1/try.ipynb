{
 "cells": [
  {
   "cell_type": "code",
   "execution_count": 1,
   "metadata": {},
   "outputs": [
    {
     "data": {
      "text/plain": [
       "0.07544563383474012"
      ]
     },
     "execution_count": 1,
     "metadata": {},
     "output_type": "execute_result"
    }
   ],
   "source": [
    "import numpy as np\n",
    "\n",
    "# Define the sigmoid function\n",
    "def sigmoid(z):\n",
    "    return 1 / (1 + np.exp(-z))\n",
    "\n",
    "# Training data\n",
    "X = np.array([[1, 5], [4, 2], [6, 0]])\n",
    "Y = np.array([0, 1, 1])\n",
    "\n",
    "# Weights\n",
    "w0=-0.3\n",
    "w1 = 0.35\n",
    "w2 = -0.15\n",
    "\n",
    "# Calculate the weighted sum (z) for each training input\n",
    "z = X[:, 0] * w1 + X[:, 1] * w2 + w0\n",
    "\n",
    "# Apply the sigmoid function to get the predicted output\n",
    "Y_pred = sigmoid(z)\n",
    "\n",
    "# Calculate the mean squared error (MSE)\n",
    "mse = np.mean((Y - Y_pred) ** 2)\n",
    "mse"
   ]
  }
 ],
 "metadata": {
  "kernelspec": {
   "display_name": "Python 3",
   "language": "python",
   "name": "python3"
  },
  "language_info": {
   "codemirror_mode": {
    "name": "ipython",
    "version": 3
   },
   "file_extension": ".py",
   "mimetype": "text/x-python",
   "name": "python",
   "nbconvert_exporter": "python",
   "pygments_lexer": "ipython3",
   "version": "3.10.3"
  }
 },
 "nbformat": 4,
 "nbformat_minor": 2
}
